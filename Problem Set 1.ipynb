{
 "cells": [
  {
   "cell_type": "markdown",
   "metadata": {},
   "source": [
    "# Question 1"
   ]
  },
  {
   "cell_type": "code",
   "execution_count": 1,
   "metadata": {},
   "outputs": [
    {
     "name": "stdout",
     "output_type": "stream",
     "text": [
      "5\n",
      "<class 'int'>\n"
     ]
    }
   ],
   "source": [
    "x=5\n",
    "print(x)\n",
    "print(type(x))\n",
    "#As per the O/P data type of 5 is int"
   ]
  },
  {
   "cell_type": "code",
   "execution_count": 2,
   "metadata": {},
   "outputs": [
    {
     "name": "stdout",
     "output_type": "stream",
     "text": [
      "5.0\n",
      "<class 'float'>\n"
     ]
    }
   ],
   "source": [
    "x=5.0\n",
    "print(x)\n",
    "print(type(x))\n",
    "#As per the O/P data type of 5.0 is float"
   ]
  },
  {
   "cell_type": "code",
   "execution_count": 3,
   "metadata": {},
   "outputs": [
    {
     "name": "stdout",
     "output_type": "stream",
     "text": [
      "True\n",
      "<class 'bool'>\n"
     ]
    }
   ],
   "source": [
    "x=5>1\n",
    "print(x)\n",
    "print(type(x))\n",
    "#As per the O/P data type of 5>1 is boolean"
   ]
  },
  {
   "cell_type": "code",
   "execution_count": 4,
   "metadata": {},
   "outputs": [
    {
     "name": "stdout",
     "output_type": "stream",
     "text": [
      "5\n",
      "<class 'str'>\n"
     ]
    }
   ],
   "source": [
    "x='5'\n",
    "print(x)\n",
    "print(type(x))\n",
    "#As per the O/P data type of '5' is string"
   ]
  },
  {
   "cell_type": "code",
   "execution_count": 5,
   "metadata": {},
   "outputs": [
    {
     "name": "stdout",
     "output_type": "stream",
     "text": [
      "10\n",
      "<class 'int'>\n"
     ]
    }
   ],
   "source": [
    "x=5*2\n",
    "print(x)\n",
    "print(type(x))\n",
    "#As per the O/P data type of 5*2 is int"
   ]
  },
  {
   "cell_type": "code",
   "execution_count": 6,
   "metadata": {},
   "outputs": [
    {
     "name": "stdout",
     "output_type": "stream",
     "text": [
      "55\n",
      "<class 'str'>\n"
     ]
    }
   ],
   "source": [
    "x='5'*2\n",
    "print(x)\n",
    "print(type(x))\n",
    "#As per the O/P data type of '5' is string"
   ]
  },
  {
   "cell_type": "code",
   "execution_count": 7,
   "metadata": {},
   "outputs": [
    {
     "name": "stdout",
     "output_type": "stream",
     "text": [
      "52\n",
      "<class 'str'>\n"
     ]
    }
   ],
   "source": [
    "x='5' + '2'\n",
    "print(x)\n",
    "print(type(x))\n",
    "#As per the O/P data type of '5' + '2' is string"
   ]
  },
  {
   "cell_type": "code",
   "execution_count": 8,
   "metadata": {},
   "outputs": [
    {
     "name": "stdout",
     "output_type": "stream",
     "text": [
      "2.5\n",
      "<class 'float'>\n"
     ]
    }
   ],
   "source": [
    "x=5 / 2\n",
    "print(x)\n",
    "print(type(x))\n",
    "#As per the O/P data type of 5 / 2 is float"
   ]
  },
  {
   "cell_type": "code",
   "execution_count": 9,
   "metadata": {},
   "outputs": [
    {
     "name": "stdout",
     "output_type": "stream",
     "text": [
      "2\n",
      "<class 'int'>\n"
     ]
    }
   ],
   "source": [
    "x=5 // 2\n",
    "print(x)\n",
    "print(type(x))\n",
    "#As per the O/P data type of 5 // 2 is int"
   ]
  },
  {
   "cell_type": "code",
   "execution_count": 10,
   "metadata": {},
   "outputs": [
    {
     "name": "stdout",
     "output_type": "stream",
     "text": [
      "[5, 2, 1]\n",
      "<class 'list'>\n"
     ]
    }
   ],
   "source": [
    "x=[5, 2, 1]\n",
    "print(x)\n",
    "print(type(x))\n",
    "#As per the O/P data type of [5, 2, 1] is list"
   ]
  },
  {
   "cell_type": "code",
   "execution_count": 11,
   "metadata": {},
   "outputs": [
    {
     "name": "stdout",
     "output_type": "stream",
     "text": [
      "False\n",
      "<class 'bool'>\n"
     ]
    }
   ],
   "source": [
    "x=5 in [1, 4, 6]\n",
    "print(x)\n",
    "print(type(x))\n",
    "#As per the O/P data type of 5 in [1, 4, 6] is boolean"
   ]
  },
  {
   "cell_type": "code",
   "execution_count": 12,
   "metadata": {},
   "outputs": [
    {
     "name": "stdout",
     "output_type": "stream",
     "text": [
      "3.141592653589793\n",
      "<class 'float'>\n"
     ]
    }
   ],
   "source": [
    "import math\n",
    "print(math.pi)\n",
    "print(type(math.pi))\n",
    "#As per the O/P data type of math.pi is float"
   ]
  },
  {
   "cell_type": "markdown",
   "metadata": {},
   "source": [
    "# Question 2"
   ]
  },
  {
   "cell_type": "code",
   "execution_count": 13,
   "metadata": {},
   "outputs": [
    {
     "data": {
      "text/plain": [
       "34"
      ]
     },
     "execution_count": 13,
     "metadata": {},
     "output_type": "execute_result"
    }
   ],
   "source": [
    "#QUESTION a\n",
    "#To find the # of characters in the string len() is use\n",
    "x = 'Supercalifragilisticexpialidocious'\n",
    "len(x)\n",
    "#As per the O/P there are 34 characters in the string x"
   ]
  },
  {
   "cell_type": "code",
   "execution_count": 14,
   "metadata": {},
   "outputs": [
    {
     "name": "stdout",
     "output_type": "stream",
     "text": [
      "18\n"
     ]
    },
    {
     "data": {
      "text/plain": [
       "True"
      ]
     },
     "execution_count": 14,
     "metadata": {},
     "output_type": "execute_result"
    }
   ],
   "source": [
    "#QUESTION b\n",
    "x = 'Supercalifragilisticexpialidocious'\n",
    "result = 'ice'\n",
    "print(x.index('ice'))#printing the index of ice\n",
    "result in x\n",
    "#As per the O/P string 'ice' is present in the string x at the index position 18"
   ]
  },
  {
   "cell_type": "code",
   "execution_count": 15,
   "metadata": {},
   "outputs": [
    {
     "name": "stdout",
     "output_type": "stream",
     "text": [
      "Supercalifragilisticexpialidocious\n"
     ]
    }
   ],
   "source": [
    "#QUESTION c\n",
    "stringList = ['Supercalifragilisticexpialidocious', 'Honorificabilitudinitatibus','Bababadalgharaghtakamminarronnkonn']\n",
    "longestString = max(stringList, key = len)\n",
    "print(longestString)\n",
    "#As per the O/P Supercalifragilisticexpialidocious is the longest String"
   ]
  },
  {
   "cell_type": "code",
   "execution_count": 16,
   "metadata": {},
   "outputs": [
    {
     "name": "stdout",
     "output_type": "stream",
     "text": [
      "['Bartok', 'Bellini', 'Berlioz', 'Bernstein', 'Borodin', 'Brian', 'Buxtehude']\n",
      "Bartok Buxtehude\n"
     ]
    }
   ],
   "source": [
    "#QUESTION d\n",
    "listComposer = ['Berlioz', 'Borodin', 'Brian','Bartok', 'Bellini', 'Buxtehude', 'Bernstein']\n",
    "listComposer.sort()\n",
    "print(listComposer)\n",
    "print(listComposer[0],listComposer[len(listComposer)-1])\n",
    "#As per the O/P Bartok is the first composer and Buxtehude is the last composer"
   ]
  },
  {
   "cell_type": "markdown",
   "metadata": {},
   "source": [
    "# Question 3"
   ]
  },
  {
   "cell_type": "code",
   "execution_count": 17,
   "metadata": {},
   "outputs": [
    {
     "name": "stdout",
     "output_type": "stream",
     "text": [
      "Points lies in the rectangle, True\n",
      "Points lies out of the rectangle, False\n"
     ]
    }
   ],
   "source": [
    "def inside(x,y,x1,y1,x2,y2):\n",
    "    if(x > x1 and x < x2 and y > y1 and y < y2):#checking the points lies between x and y axis\n",
    "        print('Points lies in the rectangle, True')\n",
    "    else:\n",
    "        print('Points lies out of the rectangle, False')\n",
    "        \n",
    "inside(1,1,0,0,2,3)\n",
    "inside(-1,-1,0,0,2,3)"
   ]
  },
  {
   "cell_type": "code",
   "execution_count": 18,
   "metadata": {},
   "outputs": [
    {
     "name": "stdout",
     "output_type": "stream",
     "text": [
      "Points lies out of the rectangle, False\n",
      "Points lies in the rectangle, True\n"
     ]
    }
   ],
   "source": [
    "#QUESTION b\n",
    "inside(1,1,0.3, 0.5,1.1, 0.7)\n",
    "inside(1,1,0.5, 0.2,1.1, 2)"
   ]
  },
  {
   "cell_type": "markdown",
   "metadata": {},
   "source": [
    "# Question 4"
   ]
  },
  {
   "cell_type": "code",
   "execution_count": 19,
   "metadata": {},
   "outputs": [
    {
     "name": "stdout",
     "output_type": "stream",
     "text": [
      "Enter the string:  Asish\n",
      "asishway\n",
      "ethanway\n",
      "avisday\n"
     ]
    }
   ],
   "source": [
    "vowels = ['a','e','i','o','u']\n",
    "def pig(stringName):\n",
    "    lowerString = stringName.lower()\n",
    "    if(lowerString[0] in vowels):#if the first alphabet of string is in vowels list\n",
    "        print(lowerString + 'way')#it will append way\n",
    "    else:\n",
    "        print(lowerString[1:] + lowerString[0] + 'ay')#if the word starts with consonant it will shift the position of 1st alphabet and append ay\n",
    "        \n",
    "inputString = input('Enter the string:  ')\n",
    "pig(inputString)\n",
    "\n",
    "pig('ETHAN')\n",
    "pig('Davis')"
   ]
  },
  {
   "cell_type": "markdown",
   "metadata": {},
   "source": [
    "# Question 5"
   ]
  },
  {
   "cell_type": "code",
   "execution_count": 34,
   "metadata": {},
   "outputs": [
    {
     "name": "stdout",
     "output_type": "stream",
     "text": [
      "There are 0 patients of bloodtype OO\n",
      "There are 13 patients of bloodtype AB\n",
      "There are 15 patients of bloodtype A\n",
      "There are 15 patients of bloodtype O\n",
      "There are 1 patients of bloodtype B\n"
     ]
    }
   ],
   "source": [
    "def bldcount(name):\n",
    "    file = open(name,'r')\n",
    "    for line in file:\n",
    "        oo = line.count('OO')\n",
    "        ab = line.count('AB') \n",
    "        a = line.count('A') - ab\n",
    "        b = line.count('B') - ab\n",
    "        o = line.count('O') - oo\n",
    "        print('There are',oo, 'patients of bloodtype OO')\n",
    "        print('There are',ab, 'patients of bloodtype AB')\n",
    "        print('There are',a, 'patients of bloodtype A')\n",
    "        print('There are',o, 'patients of bloodtype O')\n",
    "        print('There are',b, 'patients of bloodtype B')\n",
    "    \n",
    "bldcount(r'desktop/bloodtype.txt')"
   ]
  },
  {
   "cell_type": "markdown",
   "metadata": {},
   "source": [
    "# Question 6"
   ]
  },
  {
   "cell_type": "code",
   "execution_count": 21,
   "metadata": {},
   "outputs": [
    {
     "name": "stdout",
     "output_type": "stream",
     "text": [
      "Enter the currency: eur\n",
      "Enter the amount: 600\n",
      "737.79264\n"
     ]
    }
   ],
   "source": [
    "def curconv(currency,amount):\n",
    "    file = open('desktop/currencies.txt','r')\n",
    "    for line in file:\n",
    "        curLine = line.split()#this will split the current line \n",
    "        if curLine[0] == currency:#0th position of current line is equals to the currency given\n",
    "            exchRate = float(curLine[1])\n",
    "            final = amount*exchRate#multiply the exchange rate with the given amount\n",
    "            print(final)\n",
    "            break\n",
    "        \n",
    "currency = input('Enter the currency: ').upper()\n",
    "amount = float(input('Enter the amount: '))\n",
    "\n",
    "curconv(currency,amount)"
   ]
  },
  {
   "cell_type": "markdown",
   "metadata": {},
   "source": [
    "# Quesyion 7"
   ]
  },
  {
   "cell_type": "code",
   "execution_count": 25,
   "metadata": {},
   "outputs": [
    {
     "ename": "SyntaxError",
     "evalue": "invalid character in identifier (<ipython-input-25-e051fe3fa996>, line 2)",
     "output_type": "error",
     "traceback": [
      "\u001b[1;36m  File \u001b[1;32m\"<ipython-input-25-e051fe3fa996>\"\u001b[1;36m, line \u001b[1;32m2\u001b[0m\n\u001b[1;33m    6 + ‘a’\u001b[0m\n\u001b[1;37m          ^\u001b[0m\n\u001b[1;31mSyntaxError\u001b[0m\u001b[1;31m:\u001b[0m invalid character in identifier\n"
     ]
    }
   ],
   "source": [
    "#Question a\n",
    "6 + ‘a’\n",
    "\n",
    "'''File \"<ipython-input-159-515db5e180c1>\", line 2\n",
    "    6 + ‘a’\n",
    "          ^\n",
    "SyntaxError: invalid character in identifier'''\n",
    "\n",
    "#THIS WILL GIVE SYNTAX ERROR"
   ]
  },
  {
   "cell_type": "code",
   "execution_count": 26,
   "metadata": {},
   "outputs": [
    {
     "ename": "IndexError",
     "evalue": "list index out of range",
     "output_type": "error",
     "traceback": [
      "\u001b[1;31m---------------------------------------------------------------------------\u001b[0m",
      "\u001b[1;31mIndexError\u001b[0m                                Traceback (most recent call last)",
      "\u001b[1;32m<ipython-input-26-eaed27144dba>\u001b[0m in \u001b[0;36m<module>\u001b[1;34m\u001b[0m\n\u001b[0;32m      1\u001b[0m \u001b[1;31m#Question b\u001b[0m\u001b[1;33m\u001b[0m\u001b[1;33m\u001b[0m\u001b[1;33m\u001b[0m\u001b[0m\n\u001b[0;32m      2\u001b[0m \u001b[0mlist\u001b[0m \u001b[1;33m=\u001b[0m \u001b[1;33m[\u001b[0m\u001b[1;34m'a'\u001b[0m\u001b[1;33m,\u001b[0m\u001b[1;34m'b'\u001b[0m\u001b[1;33m,\u001b[0m\u001b[1;34m'c'\u001b[0m\u001b[1;33m,\u001b[0m\u001b[1;34m'd'\u001b[0m\u001b[1;33m,\u001b[0m\u001b[1;34m'e'\u001b[0m\u001b[1;33m,\u001b[0m\u001b[1;34m'f'\u001b[0m\u001b[1;33m,\u001b[0m\u001b[1;34m'g'\u001b[0m\u001b[1;33m,\u001b[0m\u001b[1;34m'h'\u001b[0m\u001b[1;33m,\u001b[0m\u001b[1;34m'i'\u001b[0m\u001b[1;33m,\u001b[0m\u001b[1;34m'j'\u001b[0m\u001b[1;33m,\u001b[0m\u001b[1;34m'k'\u001b[0m\u001b[1;33m]\u001b[0m\u001b[1;33m\u001b[0m\u001b[1;33m\u001b[0m\u001b[0m\n\u001b[1;32m----> 3\u001b[1;33m \u001b[0mprint\u001b[0m\u001b[1;33m(\u001b[0m\u001b[0mlist\u001b[0m\u001b[1;33m[\u001b[0m\u001b[1;36m12\u001b[0m\u001b[1;33m]\u001b[0m\u001b[1;33m)\u001b[0m\u001b[1;33m\u001b[0m\u001b[1;33m\u001b[0m\u001b[0m\n\u001b[0m\u001b[0;32m      4\u001b[0m \u001b[1;33m\u001b[0m\u001b[0m\n\u001b[0;32m      5\u001b[0m '''IndexError                                Traceback (most recent call last)\n",
      "\u001b[1;31mIndexError\u001b[0m: list index out of range"
     ]
    }
   ],
   "source": [
    "#Question b\n",
    "list = ['a','b','c','d','e','f','g','h','i','j','k']\n",
    "print(list[12])\n",
    "\n",
    "'''IndexError                                Traceback (most recent call last)\n",
    "<ipython-input-28-c61443d0e3cd> in <module>\n",
    "      1 #Question b\n",
    "      2 list = ['a','b','c','d','e','f','g','h','i','j','k']\n",
    "----> 3 print(list[12])\n",
    "      4 \n",
    "      5                                 Traceback (most recent call last)\n",
    "\n",
    "IndexError: list index out of range'''\n",
    "\n",
    "#THIS WILL OUT OF INDEX ERROR"
   ]
  },
  {
   "cell_type": "code",
   "execution_count": 27,
   "metadata": {},
   "outputs": [
    {
     "ename": "ValueError",
     "evalue": "math domain error",
     "output_type": "error",
     "traceback": [
      "\u001b[1;31m---------------------------------------------------------------------------\u001b[0m",
      "\u001b[1;31mValueError\u001b[0m                                Traceback (most recent call last)",
      "\u001b[1;32m<ipython-input-27-113c2826d610>\u001b[0m in \u001b[0;36m<module>\u001b[1;34m\u001b[0m\n\u001b[0;32m      1\u001b[0m \u001b[1;31m#Question c\u001b[0m\u001b[1;33m\u001b[0m\u001b[1;33m\u001b[0m\u001b[1;33m\u001b[0m\u001b[0m\n\u001b[0;32m      2\u001b[0m \u001b[1;32mimport\u001b[0m \u001b[0mmath\u001b[0m\u001b[1;33m\u001b[0m\u001b[1;33m\u001b[0m\u001b[0m\n\u001b[1;32m----> 3\u001b[1;33m \u001b[0msqroot\u001b[0m \u001b[1;33m=\u001b[0m \u001b[0mmath\u001b[0m\u001b[1;33m.\u001b[0m\u001b[0msqrt\u001b[0m\u001b[1;33m(\u001b[0m\u001b[1;33m-\u001b[0m\u001b[1;36m1.0\u001b[0m\u001b[1;33m)\u001b[0m\u001b[1;33m\u001b[0m\u001b[1;33m\u001b[0m\u001b[0m\n\u001b[0m\u001b[0;32m      4\u001b[0m \u001b[0mprint\u001b[0m\u001b[1;33m(\u001b[0m\u001b[0msqroot\u001b[0m\u001b[1;33m)\u001b[0m\u001b[1;33m\u001b[0m\u001b[1;33m\u001b[0m\u001b[0m\n\u001b[0;32m      5\u001b[0m \u001b[1;33m\u001b[0m\u001b[0m\n",
      "\u001b[1;31mValueError\u001b[0m: math domain error"
     ]
    }
   ],
   "source": [
    "#Question c\n",
    "import math\n",
    "sqroot = math.sqrt(-1.0)\n",
    "print(sqroot)\n",
    "\n",
    "'''---------------------------------------------------------------------------\n",
    "ValueError                                Traceback (most recent call last)\n",
    "<ipython-input-30-53de3df65e59> in <module>\n",
    "      1 #Question c\n",
    "      2 import math\n",
    "----> 3 sqroot = math.sqrt(-1.0)\n",
    "      4 print(sqroot)\n",
    "\n",
    "ValueError: math domain error'''\n",
    "\n",
    "#THIS WILL SHOW VALUE ERROR"
   ]
  },
  {
   "cell_type": "code",
   "execution_count": 28,
   "metadata": {},
   "outputs": [
    {
     "ename": "NameError",
     "evalue": "name 'z' is not defined",
     "output_type": "error",
     "traceback": [
      "\u001b[1;31m---------------------------------------------------------------------------\u001b[0m",
      "\u001b[1;31mNameError\u001b[0m                                 Traceback (most recent call last)",
      "\u001b[1;32m<ipython-input-28-0550bab89097>\u001b[0m in \u001b[0;36m<module>\u001b[1;34m\u001b[0m\n\u001b[0;32m      1\u001b[0m \u001b[1;31m#Question c\u001b[0m\u001b[1;33m\u001b[0m\u001b[1;33m\u001b[0m\u001b[1;33m\u001b[0m\u001b[0m\n\u001b[1;32m----> 2\u001b[1;33m \u001b[0mprint\u001b[0m\u001b[1;33m(\u001b[0m\u001b[0mz\u001b[0m\u001b[1;33m)\u001b[0m\u001b[1;33m\u001b[0m\u001b[1;33m\u001b[0m\u001b[0m\n\u001b[0m\u001b[0;32m      3\u001b[0m \u001b[1;33m\u001b[0m\u001b[0m\n\u001b[0;32m      4\u001b[0m '''NameError                                 Traceback (most recent call last)\n\u001b[0;32m      5\u001b[0m \u001b[1;33m<\u001b[0m\u001b[0mipython\u001b[0m\u001b[1;33m-\u001b[0m\u001b[0minput\u001b[0m\u001b[1;33m-\u001b[0m\u001b[1;36m172\u001b[0m\u001b[1;33m-\u001b[0m\u001b[0me35797154187\u001b[0m\u001b[1;33m>\u001b[0m \u001b[1;32min\u001b[0m \u001b[1;33m<\u001b[0m\u001b[0mmodule\u001b[0m\u001b[1;33m>\u001b[0m\u001b[1;33m\u001b[0m\u001b[1;33m\u001b[0m\u001b[0m\n",
      "\u001b[1;31mNameError\u001b[0m: name 'z' is not defined"
     ]
    }
   ],
   "source": [
    "#Question c\n",
    "print(z)\n",
    "\n",
    "'''NameError                                 Traceback (most recent call last)\n",
    "<ipython-input-172-e35797154187> in <module>\n",
    "      1 #Question c\n",
    "----> 2 print(z)\n",
    "\n",
    "NameError: name 'z' is not defined'''\n",
    "\n",
    "#THIS WILL SHOW NAMEERROR"
   ]
  },
  {
   "cell_type": "code",
   "execution_count": 29,
   "metadata": {},
   "outputs": [
    {
     "ename": "SyntaxError",
     "evalue": "EOL while scanning string literal (<ipython-input-29-c36f20e11c1d>, line 7)",
     "output_type": "error",
     "traceback": [
      "\u001b[1;36m  File \u001b[1;32m\"<ipython-input-29-c36f20e11c1d>\"\u001b[1;36m, line \u001b[1;32m7\u001b[0m\n\u001b[1;33m    FileNotFoundError: [Errno 2] No such file or directory: 'desktop/dummy.txt''''\u001b[0m\n\u001b[1;37m                                                                                  \n^\u001b[0m\n\u001b[1;31mSyntaxError\u001b[0m\u001b[1;31m:\u001b[0m EOL while scanning string literal\n"
     ]
    }
   ],
   "source": [
    "data = open('desktop/dummy.txt')\n",
    "\n",
    "'''FileNotFoundError                         Traceback (most recent call last)\n",
    "<ipython-input-33-643110693af6> in <module>\n",
    "----> 1 data = open('desktop/dummy.txt')\n",
    "\n",
    "FileNotFoundError: [Errno 2] No such file or directory: 'desktop/dummy.txt''''\n",
    "\n",
    "#FILE NOT FOUND ERROR "
   ]
  },
  {
   "cell_type": "markdown",
   "metadata": {},
   "source": [
    "# Question 8"
   ]
  },
  {
   "cell_type": "code",
   "execution_count": 30,
   "metadata": {},
   "outputs": [
    {
     "name": "stdout",
     "output_type": "stream",
     "text": [
      "Enter the Strings: aplle\n",
      "[1, 0, 0, 0, 1, 0, 0, 0, 0, 0, 0, 2, 0, 0, 0, 1, 0, 0, 0, 0, 0, 0, 0, 0, 0, 0]\n"
     ]
    }
   ],
   "source": [
    "def frequencies(string):\n",
    "    alpha = 'abcdefghijklmnopqrstuvwxyz'\n",
    "    tempList = [] \n",
    "    \n",
    "    for char in alpha: \n",
    "        if char in string: #check the character in the given string\n",
    "            x = string.count(char)#if yes, it will increase the count\n",
    "            tempList.append(x)#and append count \n",
    "        else: \n",
    "            tempList.append(0)#else append 0\n",
    "    \n",
    "    print(tempList)\n",
    "enterString = input('Enter the Strings: ')\n",
    "\n",
    "frequencies(enterString)  \n",
    "\n",
    " "
   ]
  },
  {
   "cell_type": "markdown",
   "metadata": {},
   "source": [
    "# Question 9"
   ]
  },
  {
   "cell_type": "code",
   "execution_count": 31,
   "metadata": {},
   "outputs": [
    {
     "name": "stdout",
     "output_type": "stream",
     "text": [
      "Enter a number: \n",
      "67\n",
      "[2, 3, 5, 7, 11, 13, 17, 19, 23, 29, 31, 37, 41, 43, 47, 53, 59, 61, 67]\n"
     ]
    }
   ],
   "source": [
    "import math\n",
    "def sieve(inputNumber):\n",
    "    primeNumber = []\n",
    "    for i in range(2,inputNumber + 1):\n",
    "        primeNumber.append(i)\n",
    "    i = 2\n",
    "    while(i <= int(math.sqrt(inputNumber))):#from 2 to squareroot of inputNumber\n",
    "        if i in primeNumber:#if i is in list, then we have to delete its multiples\n",
    "            for j in range(i*2, inputNumber+1, i):#j will give multiples of i, starting from 2*i\n",
    "                if j in primeNumber:\n",
    "                #deleting the multiple if found in list\n",
    "                    primeNumber.remove(j)\n",
    "        i = i+1\n",
    "\n",
    "    print(primeNumber)\n",
    "    \n",
    "print(\"Enter a number: \")\n",
    "inputNumber = int(input())\n",
    "sieve(inputNumber)"
   ]
  },
  {
   "cell_type": "markdown",
   "metadata": {},
   "source": [
    "# Question 10"
   ]
  },
  {
   "cell_type": "code",
   "execution_count": 42,
   "metadata": {
    "scrolled": true
   },
   "outputs": [
    {
     "name": "stdout",
     "output_type": "stream",
     "text": [
      "Enter first side: 22\n",
      "Enter second side: 22\n",
      "Enter third side: 22\n",
      "The Area of the Triangle is 209.57814771583415\n",
      "The Area of the Triangle is 1.7320508075688772\n"
     ]
    }
   ],
   "source": [
    "import math\n",
    "\n",
    "def triangleArea(a,b,c): \n",
    "    side = (a + b + c)/2#calculating side by given paraemters\n",
    "    ans = side*(side - a)*(side - b)*(side - c)#multiplying sides and parameters\n",
    "    finalAnswer = math.sqrt(ans)#taking square root\n",
    "    print('The Area of the Triangle is',finalAnswer)\n",
    "    \n",
    "a = float(input('Enter first side: '))\n",
    "b = float(input('Enter second side: '))\n",
    "c = float(input('Enter third side: '))\n",
    "triangleArea(a,b,c)\n",
    "triangleArea(2,2,2)"
   ]
  },
  {
   "cell_type": "code",
   "execution_count": null,
   "metadata": {},
   "outputs": [],
   "source": []
  },
  {
   "cell_type": "code",
   "execution_count": null,
   "metadata": {},
   "outputs": [],
   "source": []
  },
  {
   "cell_type": "code",
   "execution_count": null,
   "metadata": {},
   "outputs": [],
   "source": []
  },
  {
   "cell_type": "code",
   "execution_count": null,
   "metadata": {},
   "outputs": [],
   "source": []
  },
  {
   "cell_type": "code",
   "execution_count": null,
   "metadata": {},
   "outputs": [],
   "source": []
  }
 ],
 "metadata": {
  "kernelspec": {
   "display_name": "Python 3",
   "language": "python",
   "name": "python3"
  },
  "language_info": {
   "codemirror_mode": {
    "name": "ipython",
    "version": 3
   },
   "file_extension": ".py",
   "mimetype": "text/x-python",
   "name": "python",
   "nbconvert_exporter": "python",
   "pygments_lexer": "ipython3",
   "version": "3.7.4"
  }
 },
 "nbformat": 4,
 "nbformat_minor": 2
}
